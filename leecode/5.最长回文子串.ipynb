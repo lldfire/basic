{
 "cells": [
  {
   "cell_type": "markdown",
   "metadata": {},
   "source": [
    "给定一个字符串 s，找到 s 中最长的回文子串。你可以假设 s 的最大长度为 1000。"
   ]
  },
  {
   "cell_type": "code",
   "execution_count": 35,
   "metadata": {},
   "outputs": [],
   "source": [
    "# 测试用例\n",
    "s = \"abaaaaaaaba\""
   ]
  },
  {
   "cell_type": "markdown",
   "metadata": {},
   "source": [
    "### 解法一：暴力破解\n",
    "找到所有的可能结果,时间复杂度:$O(n^3)$，不满足要求"
   ]
  },
  {
   "cell_type": "code",
   "execution_count": 44,
   "metadata": {},
   "outputs": [],
   "source": [
    "class Solution:\n",
    "    def longestPalindrome(self, s):\n",
    "        sts = ''\n",
    "        for i in range(len(s)):\n",
    "            for j in range(i, len(s)+1):\n",
    "                temp_str = s[i:j]\n",
    "#                 print(temp_str)\n",
    "                # 反转判断字符串是否相等，长度是否更长\n",
    "                if temp_str == temp_str[::-1] and len(sts) <= len(temp_str):\n",
    "                    sts = temp_str\n",
    "        return sts"
   ]
  },
  {
   "cell_type": "code",
   "execution_count": null,
   "metadata": {},
   "outputs": [],
   "source": [
    "Solution().longestPalindrome(s)"
   ]
  },
  {
   "cell_type": "markdown",
   "metadata": {},
   "source": [
    "### 解法二：动态规划\n",
    "已知某个回文子串，如果该子串前后的字母相同，则说明该子串也是回文子串"
   ]
  },
  {
   "cell_type": "code",
   "execution_count": 38,
   "metadata": {},
   "outputs": [],
   "source": [
    "class Solution:\n",
    "    def longestPalindrome(self, s):\n",
    "        size = len(s)\n",
    "        # 单字符或空字符\n",
    "        if size <= 1:\n",
    "            return s\n",
    "        # 此二维矩阵标记字符串s[i][j] 是否为回文子串\n",
    "        dp = [[False for _ in range(size)] for _ in range(size)]\n",
    "        \n",
    "        length = 1\n",
    "        result = s[0]\n",
    "        \n",
    "        for r in range(1, size):\n",
    "            for l in range(r):\n",
    "                print(result)\n",
    "                # 判断 i,j 的子串是否回文子串,以下是两个判别条件\n",
    "                # 1.如果s[l+1:j-1] 是回文且s[l]==s[r] 则 s[l:r+1] 也是回文子串\n",
    "                # 如果 l 和 r间的字符小于等于1且s[l]==s[r],则s[l:r+1] 也是回文子串\n",
    "                if s[l] == s[r] and (r - l <= 2 or dp[l+1][r-1]):\n",
    "                    \n",
    "                    dp[l][r] = True\n",
    "                    \n",
    "                    temp_len = r - l + 1\n",
    "                    if temp_len > length:\n",
    "                        length = temp_len\n",
    "                        result = s[l:r+1]\n",
    "                        \n",
    "        return result"
   ]
  },
  {
   "cell_type": "code",
   "execution_count": null,
   "metadata": {},
   "outputs": [],
   "source": [
    "Solution().longestPalindrome(s)"
   ]
  },
  {
   "cell_type": "markdown",
   "metadata": {},
   "source": [
    "### 解法三：中心扩散法\n",
    "遍历每个字母，以字母为中心进行扩散，看能扩散多远，回文长度可能是奇数也可能是偶数：$O(n^2)$"
   ]
  },
  {
   "cell_type": "code",
   "execution_count": 15,
   "metadata": {},
   "outputs": [],
   "source": [
    "# 需要找到中心，可能是某个字母，也可能是某个字母中间的值\n",
    "class Solution:\n",
    "    def longestPalindrome(self, s):\n",
    "        self.s = s\n",
    "        self.size = len(self.s)\n",
    "        if self.size == 0:\n",
    "            return ''\n",
    "        if len(set(self.s)) == 1:\n",
    "            return self.s\n",
    "        \n",
    "        result = self.s[0]\n",
    "\n",
    "        for i in range(self.size):\n",
    "            odd_result = self.find_center(i)\n",
    "            even_result = self.find_center(i, is_odd=False)\n",
    "\n",
    "            now_result = odd_result if len(odd_result) > len(\n",
    "                even_result) else even_result\n",
    "            \n",
    "            if len(result) <= len(now_result):\n",
    "                result = now_result\n",
    "        return result\n",
    "\n",
    "    def find_center(self, idx, is_odd=True):\n",
    "        if is_odd:\n",
    "            left, right = idx, idx    # 以某个词为中心扩展\n",
    "        else:\n",
    "            left, right = idx, idx + 1    # 以某两个词为中心扩展\n",
    "        # print(left, right)\n",
    "        while left > 0 and right < self.size and self.s[left] == self.s[right]:\n",
    "            left -= 1\n",
    "            right += 1\n",
    "        return self.s[left + 1:right]"
   ]
  },
  {
   "cell_type": "code",
   "execution_count": 99,
   "metadata": {},
   "outputs": [
    {
     "data": {
      "text/plain": [
       "'d'"
      ]
     },
     "execution_count": 99,
     "metadata": {},
     "output_type": "execute_result"
    }
   ],
   "source": [
    "Solution().longestPalindrome('ccd')"
   ]
  },
  {
   "cell_type": "markdown",
   "metadata": {},
   "source": [
    "### 解法四：manacher法"
   ]
  },
  {
   "cell_type": "code",
   "execution_count": null,
   "metadata": {},
   "outputs": [],
   "source": []
  },
  {
   "cell_type": "code",
   "execution_count": null,
   "metadata": {},
   "outputs": [],
   "source": []
  }
 ],
 "metadata": {
  "kernelspec": {
   "display_name": "Python 3",
   "language": "python",
   "name": "python3"
  },
  "language_info": {
   "codemirror_mode": {
    "name": "ipython",
    "version": 3
   },
   "file_extension": ".py",
   "mimetype": "text/x-python",
   "name": "python",
   "nbconvert_exporter": "python",
   "pygments_lexer": "ipython3",
   "version": "3.7.2"
  },
  "nbTranslate": {
   "displayLangs": [
    "cn",
    "en"
   ],
   "hotkey": "alt-t",
   "langInMainMenu": true,
   "sourceLang": "en",
   "targetLang": "cn",
   "useGoogleTranslate": true
  },
  "toc": {
   "base_numbering": 1,
   "nav_menu": {},
   "number_sections": true,
   "sideBar": true,
   "skip_h1_title": false,
   "title_cell": "Table of Contents",
   "title_sidebar": "Contents",
   "toc_cell": false,
   "toc_position": {},
   "toc_section_display": true,
   "toc_window_display": false
  },
  "varInspector": {
   "cols": {
    "lenName": 16,
    "lenType": 16,
    "lenVar": 40
   },
   "kernels_config": {
    "python": {
     "delete_cmd_postfix": "",
     "delete_cmd_prefix": "del ",
     "library": "var_list.py",
     "varRefreshCmd": "print(var_dic_list())"
    },
    "r": {
     "delete_cmd_postfix": ") ",
     "delete_cmd_prefix": "rm(",
     "library": "var_list.r",
     "varRefreshCmd": "cat(var_dic_list()) "
    }
   },
   "position": {
    "height": "144.85px",
    "left": "1537px",
    "right": "20px",
    "top": "65px",
    "width": "350px"
   },
   "types_to_exclude": [
    "module",
    "function",
    "builtin_function_or_method",
    "instance",
    "_Feature"
   ],
   "window_display": true
  }
 },
 "nbformat": 4,
 "nbformat_minor": 2
}
