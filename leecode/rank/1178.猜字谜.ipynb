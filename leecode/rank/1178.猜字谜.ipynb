{
 "cells": [
  {
   "cell_type": "code",
   "execution_count": null,
   "metadata": {},
   "outputs": [],
   "source": [
    "1. 外国友人仿照中国字谜设计了一个英文版猜字谜小游戏，请你来猜猜看吧。\n",
    "\n",
    "2. 字谜的迷面 puzzle 按字符串形式给出，如果一个单词 word 符合下面两个条件，那么它就可以算作谜底（同时满足）:\n",
    "\n",
    "    - 单词 word 中包含谜面 puzzle 的第一个字母。\n",
    "    - 单词 word 中的每一个字母都可以在谜面 puzzle 中找到。\n",
    "- 例如，如果字谜的谜面是 \"abcdefg\"，那么可以作为谜底的单词有 \"faced\", \"cabbage\", 和 \"baggage\"；而 \"beefed\"（不含字母 \"a\"）以及 \"based\"（其中的 \"s\" 没有出现在谜面中）。\n",
    "- 返回一个答案数组 answer，数组中的每个元素 answer[i] 是在给出的单词列表 words 中可以作为字谜迷面 puzzles[i] 所对应的谜底的单词数目"
   ]
  },
  {
   "cell_type": "code",
   "execution_count": null,
   "metadata": {},
   "outputs": [],
   "source": [
    "# 测试用例\n",
    "words = [\"apple\",\"pleas\",\"please\"]\n",
    "puzzles = [\"aelwxyz\",\"aelpxyz\",\"aelpsxy\",\"saelpxy\",\"xaelpsy\"]"
   ]
  },
  {
   "cell_type": "markdown",
   "metadata": {},
   "source": [
    "#### 解法一：循环遍历（时间超出）"
   ]
  },
  {
   "cell_type": "code",
   "execution_count": 13,
   "metadata": {},
   "outputs": [],
   "source": [
    "class Solution:\n",
    "    def findNumOfValidWords(self, words, puzzles):\n",
    "        answer = []\n",
    "        for puzz in  puzzles:\n",
    "            num = 0\n",
    "            for word in words:\n",
    "                \n",
    "                # 单词中是否包含谜面的第一个字母,\n",
    "                if puzz[0] in word:\n",
    "                # 判断word 中的每个单词是否在 puzz中，有一个不在则退出本次判断，进行下一次\n",
    "                    for let in word:\n",
    "                        if let not in puzz:\n",
    "                            break\n",
    "                    else:\n",
    "                        num += 1\n",
    "            answer.append(num)\n",
    "        return answer"
   ]
  },
  {
   "cell_type": "code",
   "execution_count": 14,
   "metadata": {},
   "outputs": [
    {
     "data": {
      "text/plain": [
       "[1, 1, 3, 2, 4, 0]"
      ]
     },
     "execution_count": 14,
     "metadata": {},
     "output_type": "execute_result"
    }
   ],
   "source": [
    "Solution().findNumOfValidWords(words, puzzles)"
   ]
  },
  {
   "cell_type": "markdown",
   "metadata": {},
   "source": [
    "#### 解法二：位运算"
   ]
  },
  {
   "cell_type": "code",
   "execution_count": null,
   "metadata": {},
   "outputs": [],
   "source": [
    "# 将字母转化为二进制，对 word 去重\n"
   ]
  },
  {
   "cell_type": "markdown",
   "metadata": {},
   "source": [
    "#### 解法三：哈希比较 \n",
    "对谜面除首字母外的所有字母进行任意方式组合，其谜底必然是这些组合中的一个"
   ]
  },
  {
   "cell_type": "code",
   "execution_count": 2,
   "metadata": {},
   "outputs": [],
   "source": [
    "import itertools\n",
    "import collections\n",
    "# 字母去重\n",
    "# map 函数比列表生成式的运行速度快\n",
    "class Solution:\n",
    "    def findNumOfValidWords(self, words, puzzles):\n",
    "        new_words = [frozenset(word) for word in words if len(set(word)) <= 7]\n",
    "        word_dict = collections.Counter(new_words)\n",
    "\n",
    "        result = []\n",
    "        for puzz in puzzles:\n",
    "            first_word = (puzz[0],)    # 取首字母\n",
    "            # 对首字母外的字母进行任意排列组合\n",
    "            all_combin = []\n",
    "            count = 0\n",
    "            for i in range(len(set(puzz[1:]))+1):\n",
    "                all_combin += [i for i in itertools.combinations(puzz[1:], i)]\n",
    "            \n",
    "            count = sum([word_dict.get(frozenset(item+first_word), 0) for item in all_combin])\n",
    "            result.append(count)\n",
    "        return result"
   ]
  },
  {
   "cell_type": "code",
   "execution_count": 4,
   "metadata": {},
   "outputs": [
    {
     "data": {
      "text/plain": [
       "[0, 1, 3, 2, 0]"
      ]
     },
     "execution_count": 4,
     "metadata": {},
     "output_type": "execute_result"
    }
   ],
   "source": [
    "Solution().findNumOfValidWords(words, puzzles)"
   ]
  }
 ],
 "metadata": {
  "kernelspec": {
   "display_name": "Python 3",
   "language": "python",
   "name": "python3"
  },
  "language_info": {
   "codemirror_mode": {
    "name": "ipython",
    "version": 3
   },
   "file_extension": ".py",
   "mimetype": "text/x-python",
   "name": "python",
   "nbconvert_exporter": "python",
   "pygments_lexer": "ipython3",
   "version": "3.7.2-final"
  },
  "nbTranslate": {
   "displayLangs": [
    "zh-cn"
   ],
   "hotkey": "alt-t",
   "langInMainMenu": true,
   "sourceLang": "en",
   "targetLang": "zh-cn",
   "useGoogleTranslate": true
  },
  "varInspector": {
   "cols": {
    "lenName": 16,
    "lenType": 16,
    "lenVar": 40
   },
   "kernels_config": {
    "python": {
     "delete_cmd_postfix": "",
     "delete_cmd_prefix": "del ",
     "library": "var_list.py",
     "varRefreshCmd": "print(var_dic_list())"
    },
    "r": {
     "delete_cmd_postfix": ") ",
     "delete_cmd_prefix": "rm(",
     "library": "var_list.r",
     "varRefreshCmd": "cat(var_dic_list()) "
    }
   },
   "position": {
    "height": "144.85px",
    "left": "1541px",
    "right": "20px",
    "top": "91px",
    "width": "350px"
   },
   "types_to_exclude": [
    "module",
    "function",
    "builtin_function_or_method",
    "instance",
    "_Feature"
   ],
   "window_display": true
  }
 },
 "nbformat": 4,
 "nbformat_minor": 2
}