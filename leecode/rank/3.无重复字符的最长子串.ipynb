{
 "cells": [
  {
   "cell_type": "markdown",
   "metadata": {
    "hide_input": true
   },
   "source": [
    "给定一个字符串，请你找出其中不含有重复字符的 **最长子串** 的长度。"
   ]
  },
  {
   "cell_type": "code",
   "execution_count": 101,
   "metadata": {},
   "outputs": [],
   "source": [
    "# 测试用例\n",
    "test_str = \"pwwkewqwewrtyuiopasdfasgdfgfdgfhgh\""
   ]
  },
  {
   "cell_type": "markdown",
   "metadata": {},
   "source": [
    "#### 解法一：暴力破解\n",
    "枚举出字符串的所有子串，找到最长的一个"
   ]
  },
  {
   "cell_type": "code",
   "execution_count": 80,
   "metadata": {
    "deletable": false,
    "editable": false,
    "hide_input": false
   },
   "outputs": [],
   "source": [
    "class Solution:\n",
    "    def lengthOfLongestSubstring(self, s: str):\n",
    "        length = len(s)\n",
    "        str_length = 0\n",
    "        for i in range(length):\n",
    "            for j in range(i+1, length+1):\n",
    "                temp_set_len = len(set(s[i:j]))   \n",
    "                temp_len = len(s[i:j])\n",
    "                #  去重前后字符串长度是否发生变换判断是否有重复子串\n",
    "                if temp_len > str_length and temp_len == temp_set_len:\n",
    "                    str_length = temp_len\n",
    "        return str_length       "
   ]
  },
  {
   "cell_type": "code",
   "execution_count": 81,
   "metadata": {},
   "outputs": [
    {
     "data": {
      "text/plain": [
       "13"
      ]
     },
     "execution_count": 81,
     "metadata": {},
     "output_type": "execute_result"
    }
   ],
   "source": [
    "Solution().lengthOfLongestSubstring(test_str)"
   ]
  },
  {
   "cell_type": "markdown",
   "metadata": {},
   "source": [
    "#### 解法二：滑动窗口\n",
    "给定初始flag=0, 改变i值，并计算长度，判断从（flag, i）之间有无重复字母，有则:flag+1,"
   ]
  },
  {
   "cell_type": "code",
   "execution_count": 82,
   "metadata": {
    "deletable": false,
    "editable": false,
    "hide_input": false
   },
   "outputs": [],
   "source": [
    "class Solution:\n",
    "    def lengthOfLongestSubstring(self, s: str):\n",
    "        flag = 0\n",
    "        str_len = 0\n",
    "        for i in range(len(s)+1):\n",
    "            temp_len = len(s[flag:i])\n",
    "            set_len = len(set(s[flag:i]))\n",
    "            \n",
    "            if temp_len != set_len:\n",
    "                flag += 1\n",
    "            if temp_len == set_len and temp_len > str_len:\n",
    "                str_len = temp_len\n",
    "        return str_len"
   ]
  },
  {
   "cell_type": "code",
   "execution_count": 83,
   "metadata": {
    "hide_input": false
   },
   "outputs": [
    {
     "data": {
      "text/plain": [
       "13"
      ]
     },
     "execution_count": 83,
     "metadata": {},
     "output_type": "execute_result"
    }
   ],
   "source": [
    "Solution().lengthOfLongestSubstring(test_str)"
   ]
  },
  {
   "cell_type": "markdown",
   "metadata": {},
   "source": [
    "#### 解法三：滑动窗口优化一\n",
    "使用列表作为窗口，减少中间的比较运算"
   ]
  },
  {
   "cell_type": "code",
   "execution_count": 94,
   "metadata": {
    "deletable": false,
    "editable": false
   },
   "outputs": [],
   "source": [
    "class Solution:\n",
    "    def lengthOfLongestSubstring(self, s: str):\n",
    "        window = []\n",
    "        str_len = 0\n",
    "        for i in s:\n",
    "            # 如果窗口中已存在该字母，则从该字母之后截断，并添加该字母\n",
    "            # 如果字母不在窗口中，则添加\n",
    "            \n",
    "            if i in window:       \n",
    "                window = window[(window.index(i)+1):]  # 截断\n",
    "                window.append(i)\n",
    "            else:\n",
    "                window.append(i)\n",
    "            # 选择最大值\n",
    "            str_len = max(len(window), str_len)    \n",
    "        return str_len"
   ]
  },
  {
   "cell_type": "code",
   "execution_count": 95,
   "metadata": {},
   "outputs": [
    {
     "data": {
      "text/plain": [
       "13"
      ]
     },
     "execution_count": 95,
     "metadata": {},
     "output_type": "execute_result"
    }
   ],
   "source": [
    "Solution().lengthOfLongestSubstring(test_str)"
   ]
  },
  {
   "cell_type": "markdown",
   "metadata": {},
   "source": [
    "#### 解法四：滑动窗口优化二\n",
    "使用双指针控制子符串的位置，从而减少窗口的删减操作"
   ]
  },
  {
   "cell_type": "code",
   "execution_count": 97,
   "metadata": {
    "deletable": false,
    "editable": false
   },
   "outputs": [],
   "source": [
    "class Solution:\n",
    "    def lengthOfLongestSubstring(self, s: str):\n",
    "        str_len = 0\n",
    "        left, right = 0, 0\n",
    "        for i in s:\n",
    "            # 如果字母在窗口中，扩展窗口，右指针+1，\n",
    "            # 左指针更新为该字母所在位置，并扩展窗口\n",
    "            if i in s[left:right]:\n",
    "                left += s[left:right].index(i)+1\n",
    "                right += 1\n",
    "            # 如果字母不在窗口中，扩展窗口，右指针+1\n",
    "            else:\n",
    "                right += 1\n",
    "            str_len = max((right - left), str_len)    \n",
    "        return str_len"
   ]
  },
  {
   "cell_type": "code",
   "execution_count": 100,
   "metadata": {
    "lang": "en"
   },
   "outputs": [
    {
     "data": {
      "text/plain": [
       "3"
      ]
     },
     "execution_count": 100,
     "metadata": {},
     "output_type": "execute_result"
    }
   ],
   "source": [
    "Solution().lengthOfLongestSubstring(test_str)"
   ]
  },
  {
   "cell_type": "markdown",
   "metadata": {},
   "source": [
    "#### 解法五：滑动窗口优化三\n",
    "使用hash,代替列表减少查询时间"
   ]
  },
  {
   "cell_type": "code",
   "execution_count": 2,
   "metadata": {
    "deletable": false,
    "editable": false,
    "lang": "en"
   },
   "outputs": [],
   "source": [
    "class Solution:\n",
    "    def lengthOfLongestSubstring(self, s: str):\n",
    "        ignore_index = -1    # 上个相同字母出现的位置\n",
    "        str_len = 0\n",
    "        l_dict = {}\n",
    "        for i, c in enumerate(s):\n",
    "            # 如果字母在字典中，则使用新的索引替换初始索引\n",
    "            if c in l_dict and l_dict[c] > ignore_index:\n",
    "                ignore_index = l_dict[c]\n",
    "                l_dict[c] = i\n",
    "            # 如果不在之中，则加入索引值\n",
    "            else:\n",
    "                l_dict[c] = i\n",
    "            str_len = max(i - ignore_index, str_len)\n",
    "        return str_len"
   ]
  },
  {
   "cell_type": "markdown",
   "metadata": {
    "lang": "cn"
   },
   "source": [
    "hello"
   ]
  },
  {
   "cell_type": "markdown",
   "metadata": {
    "lang": "cn"
   },
   "source": [
    "hello"
   ]
  },
  {
   "cell_type": "code",
   "execution_count": 7,
   "metadata": {},
   "outputs": [
    {
     "data": {
      "text/plain": [
       "5"
      ]
     },
     "execution_count": 7,
     "metadata": {},
     "output_type": "execute_result"
    }
   ],
   "source": [
    "Solution().lengthOfLongestSubstring('bafsdfas')"
   ]
  },
  {
   "cell_type": "code",
   "execution_count": null,
   "metadata": {},
   "outputs": [],
   "source": []
  }
 ],
 "metadata": {
  "kernelspec": {
   "display_name": "Python 3",
   "language": "python",
   "name": "python3"
  },
  "language_info": {
   "codemirror_mode": {
    "name": "ipython",
    "version": 3
   },
   "file_extension": ".py",
   "mimetype": "text/x-python",
   "name": "python",
   "nbconvert_exporter": "python",
   "pygments_lexer": "ipython3",
   "version": "3.7.2"
  },
  "nbTranslate": {
   "displayLangs": [
    "zh-cn",
    "en"
   ],
   "hotkey": "alt-t",
   "langInMainMenu": true,
   "sourceLang": "en",
   "targetLang": "zh-cn",
   "useGoogleTranslate": true
  },
  "toc": {
   "base_numbering": 1,
   "nav_menu": {},
   "number_sections": true,
   "sideBar": true,
   "skip_h1_title": false,
   "title_cell": "Table of Contents",
   "title_sidebar": "Contents",
   "toc_cell": false,
   "toc_position": {
    "height": "calc(100% - 180px)",
    "left": "10px",
    "top": "150px",
    "width": "384px"
   },
   "toc_section_display": true,
   "toc_window_display": false
  },
  "varInspector": {
   "cols": {
    "lenName": 16,
    "lenType": 16,
    "lenVar": 40
   },
   "kernels_config": {
    "python": {
     "delete_cmd_postfix": "",
     "delete_cmd_prefix": "del ",
     "library": "var_list.py",
     "varRefreshCmd": "print(var_dic_list())"
    },
    "r": {
     "delete_cmd_postfix": ") ",
     "delete_cmd_prefix": "rm(",
     "library": "var_list.r",
     "varRefreshCmd": "cat(var_dic_list()) "
    }
   },
   "position": {
    "height": "144.85px",
    "left": "1427px",
    "right": "20px",
    "top": "52px",
    "width": "350px"
   },
   "types_to_exclude": [
    "module",
    "function",
    "builtin_function_or_method",
    "instance",
    "_Feature"
   ],
   "window_display": true
  }
 },
 "nbformat": 4,
 "nbformat_minor": 2
}
