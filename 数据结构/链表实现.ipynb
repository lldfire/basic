{
 "cells": [
  {
   "cell_type": "markdown",
   "metadata": {},
   "source": [
    "链表："
   ]
  },
  {
   "cell_type": "code",
   "execution_count": 47,
   "metadata": {},
   "outputs": [],
   "source": [
    "class Node:\n",
    "    def __init__(self, val, p=0):\n",
    "        self.data = val\n",
    "        self.next = p\n",
    "        \n",
    "\n",
    "class LinkList:\n",
    "    def __init__(self):\n",
    "        self.head = 0\n",
    "        \n",
    "    def __getitem__(self, key):\n",
    "        if self.is_empty():\n",
    "            print('linklist is empty.')\n",
    "            return None\n",
    "        elif key < 0 or key > self.getlength():\n",
    "            print('The given key is error.')\n",
    "            return None\n",
    "        else:\n",
    "            return self.getitem(key)\n",
    "    \n",
    "    def __setitem__(self, key, value):\n",
    "        if self.is_empty():\n",
    "            print('linklist is empty.')\n",
    "            return None\n",
    "        elif key < 0 or key > self.getlength():\n",
    "            print('The given key is error.')\n",
    "            return None\n",
    "        else:\n",
    "            self.delete(key)\n",
    "            return self.insert(key)\n",
    "        \n",
    "    def initlist(self, data):\n",
    "        \"\"\"初始化链表\"\"\"\n",
    "        self.head = Node(data[0])    # 链表头\n",
    "        p = self.head\n",
    "        for i in data[1:]:\n",
    "            node = Node(i)\n",
    "            p.next = node\n",
    "            p = p.next\n",
    "            \n",
    "    def getlength(self):\n",
    "        \"\"\"获取链表长度\"\"\"\n",
    "        p = self.head\n",
    "        length = 0\n",
    "        while p != 0:\n",
    "            length += 1\n",
    "            p = p.next\n",
    "        return length\n",
    "    \n",
    "    def is_empty(self):\n",
    "        \"\"\"判断链表是否为空\"\"\"\n",
    "        if self.getlength() == 0:\n",
    "            return True\n",
    "        else:\n",
    "            return False\n",
    "        \n",
    "    def clear(self):\n",
    "        self.head = 0\n",
    "        \n",
    "    def append(self, item):\n",
    "        \"\"\"添加元素\"\"\"\n",
    "        q = Node(item)\n",
    "        if self.head == 0:\n",
    "            self.head = q\n",
    "        else:\n",
    "            p = self.head\n",
    "            while p.next != 0:\n",
    "                p = p.next\n",
    "            p.next = q\n",
    "            \n",
    "    def getitem(self, index):\n",
    "        \"\"\"获取元素\"\"\"\n",
    "        if self.is_empty():\n",
    "            print('Linklist is empty.')\n",
    "            return None\n",
    "        j = 0\n",
    "        p = self.head\n",
    "        \n",
    "        while p.next != 0 and j < index:\n",
    "            p = p.next\n",
    "            j += 1\n",
    "        if j == index:\n",
    "            return p.data\n",
    "        else:\n",
    "            print('target is not exist!')\n",
    "            \n",
    "    def insert(self, index, item):\n",
    "        \"\"\"添加元素\"\"\"\n",
    "        if self.is_empty() or index < 0 or index > self.getlength():\n",
    "            print('Linklist is empty.')\n",
    "            return None\n",
    "        if index == 0:\n",
    "            q = Node(item, self.head)\n",
    "            self.head = q\n",
    "        p = self.head\n",
    "        post = self.head\n",
    "        j = 0\n",
    "        while p.next != 0 or j < index:\n",
    "            post = p\n",
    "            p = p.next\n",
    "            j += 1\n",
    "        if index == j:\n",
    "            q = Node(item, p)\n",
    "            post.next = q\n",
    "            q.next = p\n",
    "            \n",
    "    def delete(self, index):\n",
    "        \"\"\"删除元素\"\"\"\n",
    "        if self.is_empty() or index < 0 or index > self.getlength():\n",
    "            print('Linklist is empty.')\n",
    "            return None\n",
    "        if index == 0:\n",
    "            q = Node(item, self.head)\n",
    "            self.head = q\n",
    "        p = self.head\n",
    "        post = self. head\n",
    "        j = 0\n",
    "        while p.next != 0 and j < index:\n",
    "            post = p\n",
    "            p = p.next\n",
    "            j += 1\n",
    "        if index == j:\n",
    "            post.next = p.next\n",
    "        \n",
    "    def index(self, value):\n",
    "        \"\"\"返回链表索引\"\"\"\n",
    "        if self.is_empty():\n",
    "            print('Linklist is empty.')\n",
    "            return None\n",
    "        p = self.head\n",
    "        i = 0\n",
    "        while p.next != 0 and not p.data == value:\n",
    "            p = p.next\n",
    "            i += 1\n",
    "        \n",
    "        if p.data == value:\n",
    "            return i\n",
    "        else:\n",
    "            return -1    "
   ]
  },
  {
   "cell_type": "code",
   "execution_count": 54,
   "metadata": {},
   "outputs": [
    {
     "data": {
      "text/plain": [
       "NoneType"
      ]
     },
     "execution_count": 54,
     "metadata": {},
     "output_type": "execute_result"
    }
   ],
   "source": [
    "link = LinkList()\n",
    "link.initlist([1, 2, 3, 4, 5, 6])"
   ]
  },
  {
   "cell_type": "code",
   "execution_count": 55,
   "metadata": {},
   "outputs": [],
   "source": [
    "link.insert(3, 10)"
   ]
  },
  {
   "cell_type": "code",
   "execution_count": null,
   "metadata": {},
   "outputs": [],
   "source": []
  },
  {
   "cell_type": "code",
   "execution_count": null,
   "metadata": {},
   "outputs": [],
   "source": []
  },
  {
   "cell_type": "code",
   "execution_count": null,
   "metadata": {},
   "outputs": [],
   "source": []
  },
  {
   "cell_type": "code",
   "execution_count": null,
   "metadata": {},
   "outputs": [],
   "source": []
  }
 ],
 "metadata": {
  "kernelspec": {
   "display_name": "Python 3",
   "language": "python",
   "name": "python3"
  },
  "language_info": {
   "codemirror_mode": {
    "name": "ipython",
    "version": 3
   },
   "file_extension": ".py",
   "mimetype": "text/x-python",
   "name": "python",
   "nbconvert_exporter": "python",
   "pygments_lexer": "ipython3",
   "version": "3.7.2"
  },
  "nbTranslate": {
   "displayLangs": [
    "*"
   ],
   "hotkey": "alt-t",
   "langInMainMenu": true,
   "sourceLang": "en",
   "targetLang": "fr",
   "useGoogleTranslate": true
  },
  "varInspector": {
   "cols": {
    "lenName": 16,
    "lenType": 16,
    "lenVar": 40
   },
   "kernels_config": {
    "python": {
     "delete_cmd_postfix": "",
     "delete_cmd_prefix": "del ",
     "library": "var_list.py",
     "varRefreshCmd": "print(var_dic_list())"
    },
    "r": {
     "delete_cmd_postfix": ") ",
     "delete_cmd_prefix": "rm(",
     "library": "var_list.r",
     "varRefreshCmd": "cat(var_dic_list()) "
    }
   },
   "types_to_exclude": [
    "module",
    "function",
    "builtin_function_or_method",
    "instance",
    "_Feature"
   ],
   "window_display": false
  }
 },
 "nbformat": 4,
 "nbformat_minor": 2
}
